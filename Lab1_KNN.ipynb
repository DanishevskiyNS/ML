{
 "cells": [
  {
   "cell_type": "code",
   "execution_count": 1,
   "metadata": {},
   "outputs": [],
   "source": [
    "import pandas as pd\n",
    "import numpy as np\n",
    "\n",
    "from scipy.stats import mode\n",
    "from sklearn import preprocessing\n",
    "from sklearn.model_selection import train_test_split\n",
    "from sklearn.neighbors import KNeighborsClassifier\n",
    "\n",
    "import matplotlib.pyplot as plt\n",
    "import seaborn as sns"
   ]
  },
  {
   "cell_type": "markdown",
   "metadata": {},
   "source": [
    "# Загрузка и обработка данных"
   ]
  },
  {
   "cell_type": "code",
   "execution_count": 2,
   "metadata": {},
   "outputs": [],
   "source": [
    "header = ['buying', 'maint', 'doors', 'persons', 'lug_boot', 'safety', 'class']\n",
    "df = pd.read_csv('data/cars/car.data' ,names=header)"
   ]
  },
  {
   "cell_type": "markdown",
   "metadata": {},
   "source": [
    "Проверка типов данных признаков"
   ]
  },
  {
   "cell_type": "code",
   "execution_count": 3,
   "metadata": {},
   "outputs": [
    {
     "data": {
      "text/plain": [
       "object    7\n",
       "Name: count, dtype: int64"
      ]
     },
     "execution_count": 3,
     "metadata": {},
     "output_type": "execute_result"
    }
   ],
   "source": [
    "pd.Series([str(df[name].dtype) for name in df.columns]).value_counts()"
   ]
  },
  {
   "cell_type": "markdown",
   "metadata": {},
   "source": [
    "Проверка выборки на наличие нулей"
   ]
  },
  {
   "cell_type": "code",
   "execution_count": 4,
   "metadata": {},
   "outputs": [
    {
     "data": {
      "text/html": [
       "<div>\n",
       "<style scoped>\n",
       "    .dataframe tbody tr th:only-of-type {\n",
       "        vertical-align: middle;\n",
       "    }\n",
       "\n",
       "    .dataframe tbody tr th {\n",
       "        vertical-align: top;\n",
       "    }\n",
       "\n",
       "    .dataframe thead th {\n",
       "        text-align: right;\n",
       "    }\n",
       "</style>\n",
       "<table border=\"1\" class=\"dataframe\">\n",
       "  <thead>\n",
       "    <tr style=\"text-align: right;\">\n",
       "      <th></th>\n",
       "      <th>percent_missing</th>\n",
       "    </tr>\n",
       "  </thead>\n",
       "  <tbody>\n",
       "    <tr>\n",
       "      <th>buying</th>\n",
       "      <td>0.0</td>\n",
       "    </tr>\n",
       "    <tr>\n",
       "      <th>maint</th>\n",
       "      <td>0.0</td>\n",
       "    </tr>\n",
       "    <tr>\n",
       "      <th>doors</th>\n",
       "      <td>0.0</td>\n",
       "    </tr>\n",
       "    <tr>\n",
       "      <th>persons</th>\n",
       "      <td>0.0</td>\n",
       "    </tr>\n",
       "    <tr>\n",
       "      <th>lug_boot</th>\n",
       "      <td>0.0</td>\n",
       "    </tr>\n",
       "    <tr>\n",
       "      <th>safety</th>\n",
       "      <td>0.0</td>\n",
       "    </tr>\n",
       "    <tr>\n",
       "      <th>class</th>\n",
       "      <td>0.0</td>\n",
       "    </tr>\n",
       "  </tbody>\n",
       "</table>\n",
       "</div>"
      ],
      "text/plain": [
       "          percent_missing\n",
       "buying                0.0\n",
       "maint                 0.0\n",
       "doors                 0.0\n",
       "persons               0.0\n",
       "lug_boot              0.0\n",
       "safety                0.0\n",
       "class                 0.0"
      ]
     },
     "execution_count": 4,
     "metadata": {},
     "output_type": "execute_result"
    }
   ],
   "source": [
    "percent_missing = df.isnull().sum() * 100 / len(df)\n",
    "pd.DataFrame({'percent_missing': percent_missing})"
   ]
  },
  {
   "cell_type": "markdown",
   "metadata": {},
   "source": [
    "Подсчёт примеров каждого класса"
   ]
  },
  {
   "cell_type": "code",
   "execution_count": 5,
   "metadata": {},
   "outputs": [
    {
     "name": "stdout",
     "output_type": "stream",
     "text": [
      "Разброс по классам:\n",
      "unacc: 1210\n",
      "acc: 384\n",
      "vgood: 65\n",
      "good: 69\n"
     ]
    }
   ],
   "source": [
    "# подсчёт сэмплов каждого класса\n",
    "def calc_classes_exmpls(dataframe):\n",
    "    print('Разброс по классам:')\n",
    "    for cls in dataframe['class'].unique():\n",
    "        print(f\"{cls}: {len(dataframe[dataframe['class'] == cls])}\")\n",
    "calc_classes_exmpls(df)"
   ]
  },
  {
   "cell_type": "markdown",
   "metadata": {},
   "source": [
    "Кодирование категориальных признаков"
   ]
  },
  {
   "cell_type": "code",
   "execution_count": 6,
   "metadata": {},
   "outputs": [],
   "source": [
    "le = preprocessing.LabelEncoder()\n",
    "original_classes = np.unique(df['class'].values)\n",
    "for column_name in df.columns:\n",
    "    df[column_name] = le.fit_transform(df[column_name])\n",
    "y = df['class']\n",
    "X = df.loc[:, df.columns != 'class']"
   ]
  },
  {
   "cell_type": "code",
   "execution_count": 7,
   "metadata": {},
   "outputs": [
    {
     "name": "stdout",
     "output_type": "stream",
     "text": [
      "Numb of features:  6\n",
      "Numb of classes:  4\n",
      "(1382, 6)\n",
      "(346,)\n"
     ]
    }
   ],
   "source": [
    "X = X.values\n",
    "Y = y.values.astype(int)\n",
    "feature_num = X.shape[1]\n",
    "classes_num = len(pd.unique(y))\n",
    "print('Numb of features: ', feature_num)\n",
    "print('Numb of classes: ', classes_num)\n",
    "\n",
    "x_train, x_test, y_train, y_test = train_test_split(X, Y, test_size=0.2)\n",
    "print(x_train.shape)\n",
    "print(y_test.shape)"
   ]
  },
  {
   "cell_type": "markdown",
   "metadata": {},
   "source": [
    "# Реализация алгоритма и построение модели"
   ]
  },
  {
   "cell_type": "markdown",
   "metadata": {},
   "source": [
    "*Метрики*"
   ]
  },
  {
   "cell_type": "code",
   "execution_count": 8,
   "metadata": {},
   "outputs": [],
   "source": [
    "def minkowski_distance(x1, x2, p=3):\n",
    "    minkowski = np.sum(np.abs(x1-x2)**p)**(1/p)\n",
    "    return minkowski\n",
    "\n",
    "def euclidean_distance(x1, x2):\n",
    "    euclidean = np.sqrt(np.sum((x1-x2)**2))\n",
    "    return euclidean\n",
    "\n",
    "def manhattan_distance(x1, x2):\n",
    "    manhattan = np.sum(np.abs(x1-x2))\n",
    "    return manhattan"
   ]
  },
  {
   "cell_type": "markdown",
   "metadata": {},
   "source": [
    "*Реализация класса k-Nearest Neighbours*"
   ]
  },
  {
   "cell_type": "code",
   "execution_count": 9,
   "metadata": {},
   "outputs": [],
   "source": [
    "class KNN_classifier():\n",
    "    def __init__(self, k, metric=minkowski_distance, p=3) -> None:\n",
    "        self.k = k\n",
    "        self.metric = metric\n",
    "        self.p = p\n",
    "\n",
    "    def fit(self, X, y):\n",
    "        self.X = X\n",
    "        self.y = y\n",
    "        return self\n",
    "    \n",
    "    def predict_one(self, x):\n",
    "        neighbours = self._get_neighbours(x)\n",
    "        predicted_class = max(set(neighbours), key=neighbours.count)\n",
    "        return predicted_class\n",
    "\n",
    "    def predict(self, x):\n",
    "        return [self.predict_one(_) for _ in x]\n",
    "\n",
    "    def score(self, x_test, y_test):\n",
    "        predictions = []\n",
    "        for x, y in zip(x_test, y_test):\n",
    "            y_pred = self.predict_one(x)\n",
    "            predictions.append(y_pred)\n",
    "        \n",
    "        accuracy = np.mean(y_test == predictions)\n",
    "        return accuracy\n",
    "\n",
    "    def _get_neighbours(self, x):\n",
    "        distances = []\n",
    "        # считаем дистанцию на всей тренировочной выборке\n",
    "        for x_train, y_train in zip(self.X, self.y):\n",
    "            distance = self.metric(x_train, x)\n",
    "            distances.append((distance, y_train))\n",
    "\n",
    "        # сортируем по возрастанию дистанции\n",
    "        distances.sort(key=lambda d: d[0])\n",
    "\n",
    "        # ищем соседей\n",
    "        neighbours = [distances[i][1] for i in range(self.k)]\n",
    "        return neighbours\n"
   ]
  },
  {
   "cell_type": "markdown",
   "metadata": {},
   "source": [
    "Сравнение точности алгоритмов"
   ]
  },
  {
   "cell_type": "code",
   "execution_count": 10,
   "metadata": {},
   "outputs": [],
   "source": [
    "class Scorer (object):\n",
    "  def __init__(self, y_true, y_pred):\n",
    "    tp, fp, _, fn = self._perf_measure(y_true, y_pred)\n",
    "    self.tp = tp\n",
    "    self.fp = fp\n",
    "    self.fn = fn\n",
    "\n",
    "  @staticmethod\n",
    "  def _perf_measure(y_true, y_pred):\n",
    "      TP = 0\n",
    "      FP = 0\n",
    "      TN = 0\n",
    "      FN = 0\n",
    "\n",
    "      for i in range(len(y_pred)): \n",
    "          if y_true[i] == y_pred[i] == 1:\n",
    "            TP += 1\n",
    "          if y_pred[i] == 1 and y_true[i] != y_pred[i]:\n",
    "            FP += 1\n",
    "          if y_true[i] == y_pred[i] == 0:\n",
    "            TN += 1\n",
    "          if y_pred[i] == 0 and y_true[i] != y_pred[i]:\n",
    "            FN += 1\n",
    "\n",
    "      return (TP, FP, TN, FN)\n",
    "\n",
    "  def get_recall_score(self) -> float:\n",
    "    return self.tp / (self.tp + self.fn)\n",
    "\n",
    "  def get_precision_score(self) -> float:\n",
    "    return self.tp / (self.tp + self.fp)\n",
    "\n",
    "  def get_f1_score(self) -> float:\n",
    "    return 2 * self.tp / (2 * self.tp + self.fp + self.fn)\n"
   ]
  },
  {
   "cell_type": "code",
   "execution_count": 11,
   "metadata": {},
   "outputs": [],
   "source": [
    "metrics = {\n",
    "  'Minkowski': minkowski_distance, \n",
    "  'Euclidean': euclidean_distance, \n",
    "  'Manhattan': manhattan_distance\n",
    "}\n",
    "neighbours_count = [3, 5, 8, 10]"
   ]
  },
  {
   "cell_type": "code",
   "execution_count": 12,
   "metadata": {},
   "outputs": [],
   "source": [
    "def get_scores_df(model: KNN_classifier, neighbours: list, metrics: dict) -> pd.DataFrame:\n",
    "  scores = pd.DataFrame(columns=metrics.keys(), index=neighbours)\n",
    "\n",
    "  for k in neighbours:\n",
    "    row = []\n",
    "    for metric in metrics.values():\n",
    "      KNN = model(k, metric=metric).fit(x_train, y_train)\n",
    "      y_pred = KNN.predict(x_test)\n",
    "      scorer = Scorer(y_test, y_pred)\n",
    "      row.append(scorer.get_f1_score())\n",
    "    scores.loc[k] = row\n",
    "\n",
    "  return scores"
   ]
  },
  {
   "cell_type": "markdown",
   "metadata": {},
   "source": [
    "## KNN + Оконный метод"
   ]
  },
  {
   "cell_type": "code",
   "execution_count": 13,
   "metadata": {},
   "outputs": [],
   "source": [
    "def gaussian_kernel(u):\n",
    "    return np.exp(-0.5 * u**2) / ((2 * np.pi))\n",
    "\n",
    "def epanechnikov_kernel(u):\n",
    "    return 3/4 * (1 - u**2)"
   ]
  },
  {
   "cell_type": "code",
   "execution_count": 73,
   "metadata": {},
   "outputs": [],
   "source": [
    "class KNN_classifier_Parzen():\n",
    "    def __init__(self, k, metric=minkowski_distance, p=3, kernel=epanechnikov_kernel) -> None:\n",
    "        self.k = k\n",
    "        self.metric = metric\n",
    "        self.p = p\n",
    "        self.kernel = kernel\n",
    "\n",
    "    def fit(self, X, y):\n",
    "        self.X = X\n",
    "        self.y = y\n",
    "        return self\n",
    "    \n",
    "    def set_k(self, k):\n",
    "        self.k = k\n",
    "    \n",
    "    def predict_one(self, x):\n",
    "        neighbours = self._get_neighbours(x)\n",
    "        predicted_class = self.get_predicted_class(neighbours)\n",
    "        return predicted_class\n",
    "    \n",
    "    def get_predicted_class(self, preds):\n",
    "        w_arr = np.array(preds)\n",
    "        res_dict = {}\n",
    "        for i in range(w_arr.shape[0]):\n",
    "            cls = w_arr[i][1]\n",
    "            value = w_arr[i][0]\n",
    "            if cls not in res_dict.keys():\n",
    "                res_dict[cls] = value\n",
    "                continue\n",
    "            res_dict[cls] += value\n",
    "        return max(res_dict, key=lambda k: res_dict.get(k))\n",
    "\n",
    "    def _get_neighbours(self, x):\n",
    "        distances = []\n",
    "        # считаем дистанцию на всей тренировочной выборке\n",
    "        for x_train, y_train in zip(self.X, self.y):\n",
    "            distance = self.metric(x_train, x)\n",
    "            distances.append((distance, y_train))\n",
    "            #print(weight)\n",
    "\n",
    "        # сортируем по возрастанию дистанции\n",
    "        distances.sort(key=lambda d: d[0])\n",
    "\n",
    "        # Применяем окно парзена\n",
    "        max_dist = distances[self.k+1][0]\n",
    "        weights = []\n",
    "        for i, (distance, label) in enumerate(distances):\n",
    "            if i == self.k:\n",
    "                break\n",
    "            weights.append((self.kernel(distance / max_dist), label))\n",
    "        return weights\n",
    "    \n",
    "    def predict(self, x):\n",
    "        return [self.predict_one(_) for _ in x]\n",
    "\n",
    "    def score(self, x_test, y_test):\n",
    "        predictions = []\n",
    "        for x, y in zip(x_test, y_test):\n",
    "            y_pred = self.predict_one(x)\n",
    "            predictions.append(y_pred)\n",
    "        \n",
    "        accuracy = np.mean(y_test == predictions)\n",
    "        return accuracy\n"
   ]
  },
  {
   "cell_type": "code",
   "execution_count": 79,
   "metadata": {},
   "outputs": [
    {
     "data": {
      "text/html": [
       "<div>\n",
       "<style scoped>\n",
       "    .dataframe tbody tr th:only-of-type {\n",
       "        vertical-align: middle;\n",
       "    }\n",
       "\n",
       "    .dataframe tbody tr th {\n",
       "        vertical-align: top;\n",
       "    }\n",
       "\n",
       "    .dataframe thead th {\n",
       "        text-align: right;\n",
       "    }\n",
       "</style>\n",
       "<table border=\"1\" class=\"dataframe\">\n",
       "  <thead>\n",
       "    <tr style=\"text-align: right;\">\n",
       "      <th></th>\n",
       "      <th>Minkowski</th>\n",
       "      <th>Euclidean</th>\n",
       "      <th>Manhattan</th>\n",
       "    </tr>\n",
       "  </thead>\n",
       "  <tbody>\n",
       "    <tr>\n",
       "      <th>3</th>\n",
       "      <td>0.35</td>\n",
       "      <td>0.35</td>\n",
       "      <td>0.35</td>\n",
       "    </tr>\n",
       "    <tr>\n",
       "      <th>5</th>\n",
       "      <td>0.580645</td>\n",
       "      <td>0.580645</td>\n",
       "      <td>0.580645</td>\n",
       "    </tr>\n",
       "    <tr>\n",
       "      <th>8</th>\n",
       "      <td>0.484848</td>\n",
       "      <td>0.484848</td>\n",
       "      <td>0.545455</td>\n",
       "    </tr>\n",
       "    <tr>\n",
       "      <th>10</th>\n",
       "      <td>0.413793</td>\n",
       "      <td>0.413793</td>\n",
       "      <td>0.444444</td>\n",
       "    </tr>\n",
       "  </tbody>\n",
       "</table>\n",
       "</div>"
      ],
      "text/plain": [
       "   Minkowski Euclidean Manhattan\n",
       "3       0.35      0.35      0.35\n",
       "5   0.580645  0.580645  0.580645\n",
       "8   0.484848  0.484848  0.545455\n",
       "10  0.413793  0.413793  0.444444"
      ]
     },
     "execution_count": 79,
     "metadata": {},
     "output_type": "execute_result"
    }
   ],
   "source": [
    "neighbours_count = [3, 5, 8, 10]\n",
    "get_scores_df(KNN_classifier, neighbours_count, metrics)\n"
   ]
  },
  {
   "cell_type": "code",
   "execution_count": 78,
   "metadata": {},
   "outputs": [
    {
     "data": {
      "text/html": [
       "<div>\n",
       "<style scoped>\n",
       "    .dataframe tbody tr th:only-of-type {\n",
       "        vertical-align: middle;\n",
       "    }\n",
       "\n",
       "    .dataframe tbody tr th {\n",
       "        vertical-align: top;\n",
       "    }\n",
       "\n",
       "    .dataframe thead th {\n",
       "        text-align: right;\n",
       "    }\n",
       "</style>\n",
       "<table border=\"1\" class=\"dataframe\">\n",
       "  <thead>\n",
       "    <tr style=\"text-align: right;\">\n",
       "      <th></th>\n",
       "      <th>Minkowski</th>\n",
       "      <th>Euclidean</th>\n",
       "      <th>Manhattan</th>\n",
       "    </tr>\n",
       "  </thead>\n",
       "  <tbody>\n",
       "    <tr>\n",
       "      <th>3</th>\n",
       "      <td>0.231884</td>\n",
       "      <td>0.231884</td>\n",
       "      <td>0.231884</td>\n",
       "    </tr>\n",
       "    <tr>\n",
       "      <th>5</th>\n",
       "      <td>0.363636</td>\n",
       "      <td>0.363636</td>\n",
       "      <td>0.363636</td>\n",
       "    </tr>\n",
       "    <tr>\n",
       "      <th>8</th>\n",
       "      <td>0.774194</td>\n",
       "      <td>0.774194</td>\n",
       "      <td>0.774194</td>\n",
       "    </tr>\n",
       "    <tr>\n",
       "      <th>10</th>\n",
       "      <td>0.785714</td>\n",
       "      <td>0.785714</td>\n",
       "      <td>0.785714</td>\n",
       "    </tr>\n",
       "  </tbody>\n",
       "</table>\n",
       "</div>"
      ],
      "text/plain": [
       "   Minkowski Euclidean Manhattan\n",
       "3   0.231884  0.231884  0.231884\n",
       "5   0.363636  0.363636  0.363636\n",
       "8   0.774194  0.774194  0.774194\n",
       "10  0.785714  0.785714  0.785714"
      ]
     },
     "execution_count": 78,
     "metadata": {},
     "output_type": "execute_result"
    }
   ],
   "source": [
    "neighbours_count = [3, 5, 8, 10]\n",
    "get_scores_df(KNN_classifier_Parzen, neighbours_count, metrics)"
   ]
  },
  {
   "cell_type": "code",
   "execution_count": 77,
   "metadata": {},
   "outputs": [
    {
     "data": {
      "text/html": [
       "<div>\n",
       "<style scoped>\n",
       "    .dataframe tbody tr th:only-of-type {\n",
       "        vertical-align: middle;\n",
       "    }\n",
       "\n",
       "    .dataframe tbody tr th {\n",
       "        vertical-align: top;\n",
       "    }\n",
       "\n",
       "    .dataframe thead th {\n",
       "        text-align: right;\n",
       "    }\n",
       "</style>\n",
       "<table border=\"1\" class=\"dataframe\">\n",
       "  <thead>\n",
       "    <tr style=\"text-align: right;\">\n",
       "      <th></th>\n",
       "      <th>Minkowski</th>\n",
       "      <th>Euclidean</th>\n",
       "      <th>Manhattan</th>\n",
       "    </tr>\n",
       "  </thead>\n",
       "  <tbody>\n",
       "    <tr>\n",
       "      <th>3</th>\n",
       "      <td>0.3</td>\n",
       "      <td>0.3</td>\n",
       "      <td>0.358974</td>\n",
       "    </tr>\n",
       "    <tr>\n",
       "      <th>5</th>\n",
       "      <td>0.518519</td>\n",
       "      <td>0.518519</td>\n",
       "      <td>0.592593</td>\n",
       "    </tr>\n",
       "    <tr>\n",
       "      <th>8</th>\n",
       "      <td>0.625</td>\n",
       "      <td>0.545455</td>\n",
       "      <td>0.645161</td>\n",
       "    </tr>\n",
       "    <tr>\n",
       "      <th>10</th>\n",
       "      <td>0.444444</td>\n",
       "      <td>0.4</td>\n",
       "      <td>0.37037</td>\n",
       "    </tr>\n",
       "  </tbody>\n",
       "</table>\n",
       "</div>"
      ],
      "text/plain": [
       "   Minkowski Euclidean Manhattan\n",
       "3        0.3       0.3  0.358974\n",
       "5   0.518519  0.518519  0.592593\n",
       "8      0.625  0.545455  0.645161\n",
       "10  0.444444       0.4   0.37037"
      ]
     },
     "execution_count": 77,
     "metadata": {},
     "output_type": "execute_result"
    }
   ],
   "source": [
    "get_scores_df(KNeighborsClassifier, neighbours_count, metrics)"
   ]
  },
  {
   "cell_type": "markdown",
   "metadata": {},
   "source": [
    "## LOO"
   ]
  },
  {
   "cell_type": "code",
   "execution_count": 80,
   "metadata": {},
   "outputs": [],
   "source": [
    "def find_best_k(classifier, k_list):\n",
    "    results = []\n",
    "    for k in k_list:\n",
    "        classifier.set_k(k=k)\n",
    "        correct_sum = leave_one_out(classifier, x_train, y_train)\n",
    "        results.append(correct_sum)\n",
    "\n",
    "    best_k = k_list[(max(enumerate(results), key=(lambda x: x[1])))[0]]\n",
    "    return best_k\n",
    "\n",
    "def leave_one_out(model, X : np.array, y : np.array) -> int:\n",
    "    correct_sum = 0\n",
    "\n",
    "    for i in range(len(X)):\n",
    "        x_test_ = X[i]\n",
    "        y_test_ = y[i]\n",
    "        X_ = np.delete(X, i, 0)\n",
    "        y_ = np.delete(y, i, 0)\n",
    "        model.fit(X_, y_)\n",
    "        y_pred = model.predict_one(x_test_)\n",
    "        if y_test_ == y_pred:\n",
    "            correct_sum += 1\n",
    "\n",
    "    return correct_sum"
   ]
  },
  {
   "cell_type": "code",
   "execution_count": 83,
   "metadata": {},
   "outputs": [
    {
     "data": {
      "text/html": [
       "<div>\n",
       "<style scoped>\n",
       "    .dataframe tbody tr th:only-of-type {\n",
       "        vertical-align: middle;\n",
       "    }\n",
       "\n",
       "    .dataframe tbody tr th {\n",
       "        vertical-align: top;\n",
       "    }\n",
       "\n",
       "    .dataframe thead th {\n",
       "        text-align: right;\n",
       "    }\n",
       "</style>\n",
       "<table border=\"1\" class=\"dataframe\">\n",
       "  <thead>\n",
       "    <tr style=\"text-align: right;\">\n",
       "      <th></th>\n",
       "      <th>Minkowski</th>\n",
       "      <th>Euclidean</th>\n",
       "      <th>Manhattan</th>\n",
       "    </tr>\n",
       "  </thead>\n",
       "  <tbody>\n",
       "    <tr>\n",
       "      <th>9</th>\n",
       "      <td>0.758621</td>\n",
       "      <td>0.758621</td>\n",
       "      <td>0.758621</td>\n",
       "    </tr>\n",
       "  </tbody>\n",
       "</table>\n",
       "</div>"
      ],
      "text/plain": [
       "  Minkowski Euclidean Manhattan\n",
       "9  0.758621  0.758621  0.758621"
      ]
     },
     "execution_count": 83,
     "metadata": {},
     "output_type": "execute_result"
    }
   ],
   "source": [
    "k_list = [i for i in range(6, 12, 1)]\n",
    "classifier = KNN_classifier_Parzen(None, euclidean_distance, kernel=gaussian_kernel)\n",
    "best_k = find_best_k(classifier, k_list)\n",
    "\n",
    "get_scores_df(KNN_classifier_Parzen, [best_k], metrics)\n",
    "\n"
   ]
  }
 ],
 "metadata": {
  "kernelspec": {
   "display_name": "ds",
   "language": "python",
   "name": "python3"
  },
  "language_info": {
   "codemirror_mode": {
    "name": "ipython",
    "version": 3
   },
   "file_extension": ".py",
   "mimetype": "text/x-python",
   "name": "python",
   "nbconvert_exporter": "python",
   "pygments_lexer": "ipython3",
   "version": "3.11.5"
  },
  "orig_nbformat": 4
 },
 "nbformat": 4,
 "nbformat_minor": 2
}
